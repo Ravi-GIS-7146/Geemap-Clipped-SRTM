{
 "cells": [
  {
   "cell_type": "code",
   "execution_count": 1,
   "id": "67330119",
   "metadata": {},
   "outputs": [],
   "source": [
    "import geemap"
   ]
  },
  {
   "cell_type": "code",
   "execution_count": 27,
   "id": "e294dec6",
   "metadata": {},
   "outputs": [
    {
     "data": {
      "application/vnd.jupyter.widget-view+json": {
       "model_id": "edc0843f0da7450c8a676ffaee201d0b",
       "version_major": 2,
       "version_minor": 0
      },
      "text/plain": [
       "Map(center=[40, -100], controls=(WidgetControl(options=['position', 'transparent_bg'], widget=HBox(children=(T…"
      ]
     },
     "metadata": {},
     "output_type": "display_data"
    }
   ],
   "source": [
    "m = geemap.Map(center = [40,-100],zoom = 8)\n",
    "m"
   ]
  },
  {
   "cell_type": "code",
   "execution_count": 28,
   "id": "74244526",
   "metadata": {},
   "outputs": [],
   "source": [
    "m.basemap_demo()"
   ]
  },
  {
   "cell_type": "code",
   "execution_count": 12,
   "id": "44bebac9",
   "metadata": {},
   "outputs": [],
   "source": [
    "m.split_map(left_layer='TERRAIN', right_layer='ROADMAP')"
   ]
  },
  {
   "cell_type": "code",
   "execution_count": null,
   "id": "8a0605ee",
   "metadata": {},
   "outputs": [],
   "source": []
  },
  {
   "cell_type": "code",
   "execution_count": 29,
   "id": "de9ae658",
   "metadata": {},
   "outputs": [],
   "source": [
    "# Add Earth Engine dataset\n",
    "image = ee.Image('USGS/SRTMGL1_003')\n",
    "vis_params = {\n",
    "  'min': 0,\n",
    "  'max': 4000,\n",
    "  'palette': ['006633', 'E5FFCC', '662A00', 'D8D8D8', 'F5F5F5']}\n",
    "m.addLayer(image, vis_params, 'SRTM')\n",
    "\n",
    "states = ee.FeatureCollection(\"TIGER/2018/States\")\n",
    "m.addLayer(states, {}, 'US States')"
   ]
  },
  {
   "cell_type": "code",
   "execution_count": 33,
   "id": "7af0f6e4",
   "metadata": {},
   "outputs": [
    {
     "data": {
      "text/plain": [
       "<ee.feature.Feature at 0x24af2052a30>"
      ]
     },
     "execution_count": 33,
     "metadata": {},
     "output_type": "execute_result"
    }
   ],
   "source": [
    "m.draw_features\n",
    "m.draw_last_feature"
   ]
  },
  {
   "cell_type": "code",
   "execution_count": 34,
   "id": "a24c1d62",
   "metadata": {},
   "outputs": [],
   "source": [
    "roi = ee.FeatureCollection(m.draw_features)\n",
    "selected_states = states.filterBounds(roi)\n",
    "m.addLayer(selected_states, {}, \"Selected States\")"
   ]
  },
  {
   "cell_type": "code",
   "execution_count": 35,
   "id": "b489578f",
   "metadata": {},
   "outputs": [],
   "source": [
    "clip_image = image.clip(selected_states)\n",
    "m.addLayer(clip_image, vis_params, 'clip image')"
   ]
  },
  {
   "cell_type": "code",
   "execution_count": null,
   "id": "384bb421",
   "metadata": {},
   "outputs": [],
   "source": []
  }
 ],
 "metadata": {
  "kernelspec": {
   "display_name": "Python 3 (ipykernel)",
   "language": "python",
   "name": "python3"
  },
  "language_info": {
   "codemirror_mode": {
    "name": "ipython",
    "version": 3
   },
   "file_extension": ".py",
   "mimetype": "text/x-python",
   "name": "python",
   "nbconvert_exporter": "python",
   "pygments_lexer": "ipython3",
   "version": "3.9.7"
  }
 },
 "nbformat": 4,
 "nbformat_minor": 5
}
